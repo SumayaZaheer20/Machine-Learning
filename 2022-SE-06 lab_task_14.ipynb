{
  "nbformat": 4,
  "nbformat_minor": 0,
  "metadata": {
    "colab": {
      "provenance": []
    },
    "kernelspec": {
      "name": "python3",
      "display_name": "Python 3"
    },
    "language_info": {
      "name": "python"
    }
  },
  "cells": [
    {
      "cell_type": "code",
      "source": [
        "import numpy as np\n",
        "import pandas as pd\n",
        "from sklearn.model_selection import train_test_split\n",
        "from sklearn.preprocessing import LabelEncoder, StandardScaler\n",
        "\n",
        "# Load the dataset\n",
        "df = pd.read_csv('/content/iris.csv')\n",
        "\n",
        "# Encode target labels (converts 'setosa', 'versicolor', 'virginica' to 0, 1, 2)\n",
        "label_encoder = LabelEncoder()\n",
        "df['species'] = label_encoder.fit_transform(df['species'])\n",
        "\n",
        "# Split features and target\n",
        "X = df.iloc[:, :-1].values  # Features (Sepal/Petal Length & Width)\n",
        "y = df['species'].values.reshape(-1, 1)  # Target (0, 1, or 2)\n",
        "\n",
        "# Normalize the features\n",
        "scaler = StandardScaler()\n",
        "X = scaler.fit_transform(X)\n",
        "\n",
        "# Convert multi-class target to binary classification (for simplicity)\n",
        "y = (y == 0).astype(int)  # Convert to binary (setosa vs. non-setosa)\n",
        "\n",
        "# Split into training and testing sets\n",
        "X_train, X_test, y_train, y_test = train_test_split(X, y, test_size=0.2, random_state=42)\n",
        "\n",
        "# Initialize weights and biases for two layers\n",
        "np.random.seed(42)\n",
        "input_size = X_train.shape[1]\n",
        "hidden_size = 5  # Hidden layer with 5 neurons\n",
        "output_size = 1  # Single output neuron for binary classification\n",
        "\n",
        "# Weights and biases\n",
        "weights_input_hidden = np.random.randn(input_size, hidden_size)\n",
        "bias_hidden = np.zeros((1, hidden_size))\n",
        "weights_hidden_output = np.random.randn(hidden_size, output_size)\n",
        "bias_output = np.zeros((1, output_size))\n",
        "\n",
        "# Sigmoid activation function\n",
        "def sigmoid(z):\n",
        "    return 1 / (1 + np.exp(-z))\n",
        "\n",
        "# Training loop (manual updates, no gradient descent)\n",
        "learning_rate = 0.01\n",
        "epochs = 100\n",
        "\n",
        "for epoch in range(epochs):\n",
        "    # Forward pass\n",
        "    hidden_layer_input = np.dot(X_train, weights_input_hidden) + bias_hidden\n",
        "    hidden_layer_output = sigmoid(hidden_layer_input)\n",
        "\n",
        "    final_input = np.dot(hidden_layer_output, weights_hidden_output) + bias_output\n",
        "    final_output = sigmoid(final_input)\n",
        "\n",
        "    # Compute error\n",
        "    error = y_train - final_output\n",
        "\n",
        "    weights_hidden_output += learning_rate * np.dot(hidden_layer_output.T, error)\n",
        "    bias_output += learning_rate * np.sum(error, axis=0, keepdims=True)\n",
        "\n",
        "    weights_input_hidden += learning_rate * np.dot(X_train.T, np.dot(error, weights_hidden_output.T) * hidden_layer_output * (1 - hidden_layer_output))\n",
        "    bias_hidden += learning_rate * np.sum(np.dot(error, weights_hidden_output.T) * hidden_layer_output * (1 - hidden_layer_output), axis=0, keepdims=True)\n",
        "\n",
        "    # Print loss every 10 epochs\n",
        "    if epoch % 10 == 0:\n",
        "        loss = np.mean(np.abs(error))\n",
        "        print(f'Epoch {epoch}: Loss = {loss:.4f}')\n",
        "\n",
        "# Testing phase\n",
        "hidden_layer_input = np.dot(X_test, weights_input_hidden) + bias_hidden\n",
        "hidden_layer_output = sigmoid(hidden_layer_input)\n",
        "\n",
        "final_input = np.dot(hidden_layer_output, weights_hidden_output) + bias_output\n",
        "final_output = sigmoid(final_input)\n",
        "\n",
        "test_predictions = (final_output > 0.5).astype(int)\n",
        "test_accuracy = np.mean(test_predictions == y_test) * 100\n",
        "print(f'Test Accuracy: {test_accuracy:.2f}%')\n"
      ],
      "metadata": {
        "colab": {
          "base_uri": "https://localhost:8080/"
        },
        "id": "sSCv3wWi5h8r",
        "outputId": "83c10fdf-2914-4bfa-af50-dc0fda5fb4c2"
      },
      "execution_count": null,
      "outputs": [
        {
          "output_type": "stream",
          "name": "stdout",
          "text": [
            "Epoch 0: Loss = 0.5995\n",
            "Epoch 10: Loss = 0.2067\n",
            "Epoch 20: Loss = 0.0952\n",
            "Epoch 30: Loss = 0.0569\n",
            "Epoch 40: Loss = 0.0393\n",
            "Epoch 50: Loss = 0.0295\n",
            "Epoch 60: Loss = 0.0235\n",
            "Epoch 70: Loss = 0.0194\n",
            "Epoch 80: Loss = 0.0164\n",
            "Epoch 90: Loss = 0.0142\n",
            "Test Accuracy: 100.00%\n"
          ]
        }
      ]
    }
  ]
}