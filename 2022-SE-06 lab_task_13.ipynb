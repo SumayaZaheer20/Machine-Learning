{
  "nbformat": 4,
  "nbformat_minor": 0,
  "metadata": {
    "colab": {
      "provenance": []
    },
    "kernelspec": {
      "name": "python3",
      "display_name": "Python 3"
    },
    "language_info": {
      "name": "python"
    }
  },
  "cells": [
    {
      "cell_type": "code",
      "execution_count": 2,
      "metadata": {
        "colab": {
          "base_uri": "https://localhost:8080/"
        },
        "id": "-VKqN_CFLwhM",
        "outputId": "951006a1-e383-4800-f670-b8c609188897"
      },
      "outputs": [
        {
          "output_type": "stream",
          "name": "stdout",
          "text": [
            "Final Accuracy: 100.00%\n",
            "Final Predictions:\n",
            "Input: [0 0] | Predicted Output: 0\n",
            "Input: [0 1] | Predicted Output: 1\n",
            "Input: [1 0] | Predicted Output: 1\n",
            "Input: [1 1] | Predicted Output: 1\n"
          ]
        }
      ],
      "source": [
        "import numpy as np\n",
        "\n",
        "# OR Gate dataset\n",
        "X = np.array([[0, 0], [0, 1], [1, 0], [1, 1]])  # Inputs\n",
        "y = np.array([[0], [1], [1], [1]])  # Expected Output\n",
        "\n",
        "# Initialize weights and bias\n",
        "weights = np.random.rand(2, 1)  # 2 input features, 1 output\n",
        "bias = np.random.rand(1)\n",
        "learning_rate = 0.1\n",
        "epochs = 100\n",
        "\n",
        "# Sigmoid activation function\n",
        "def sigmoid(x):\n",
        "    return 1 / (1 + np.exp(-x))\n",
        "\n",
        "# Training loop\n",
        "for epoch in range(epochs):\n",
        "    linear_output = np.dot(X, weights) + bias\n",
        "    y_pred = sigmoid(linear_output)  # Apply activation function\n",
        "\n",
        "    # Compute error\n",
        "    error = y - y_pred\n",
        "\n",
        "    # Update weights and bias using gradient descent\n",
        "    weights += learning_rate * np.dot(X.T, error)\n",
        "    bias += learning_rate * np.sum(error)\n",
        "\n",
        "# Testing phase\n",
        "test_output = sigmoid(np.dot(X, weights) + bias)\n",
        "test_predictions = (test_output > 0.5).astype(int)\n",
        "\n",
        "# Calculate accuracy\n",
        "accuracy = np.mean(test_predictions == y) * 100\n",
        "print(f'Final Accuracy: {accuracy:.2f}%')\n",
        "\n",
        "# Display final predictions\n",
        "print(\"Final Predictions:\")\n",
        "for i in range(len(X)):\n",
        "    print(f\"Input: {X[i]} | Predicted Output: {test_predictions[i][0]}\")\n"
      ]
    }
  ]
}